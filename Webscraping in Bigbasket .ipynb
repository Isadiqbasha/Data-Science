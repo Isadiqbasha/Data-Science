{
 "cells": [
  {
   "cell_type": "markdown",
   "id": "10b52778",
   "metadata": {},
   "source": [
    "# Webscraping in Bigbasket "
   ]
  },
  {
   "cell_type": "markdown",
   "id": "9de1a1aa",
   "metadata": {},
   "source": [
    "# Problem Statement\n",
    "\n",
    "    * The objective of this project was to collect and analyze data from BigBasket to identify products\n",
    "    with discounts and offers exceeding 50% .The focus was on finding and understanding products where customers could save \n",
    "    more thanhalf of the original price, which is a crucial aspect for budget-conscious consumers."
   ]
  },
  {
   "cell_type": "markdown",
   "id": "6ee51d02",
   "metadata": {},
   "source": [
    "# Lets import the required packages "
   ]
  },
  {
   "cell_type": "code",
   "execution_count": 18,
   "id": "bb99546e",
   "metadata": {},
   "outputs": [],
   "source": [
    "from selenium import webdriver\n",
    "from selenium.webdriver.chrome.service import Service as ChromeService\n",
    "from webdriver_manager.chrome import ChromeDriverManager\n",
    "from selenium.webdriver.common.by import By\n",
    "from selenium.webdriver import Keys\n",
    "import time\n",
    "from tabulate import tabulate\n",
    "import re\n",
    "from bs4 import BeautifulSoup\n",
    "import requests\n",
    "import pandas as pd\n",
    "import numpy as np\n",
    "import matplotlib.pyplot as plt\n",
    "import seaborn as sns\n",
    "from selenium.webdriver.support.ui import WebDriverWait\n",
    "from selenium.webdriver.support import expected_conditions as EC\n",
    "import winsound\n",
    "import time\n",
    "import numpy\n",
    "\n"
   ]
  },
  {
   "cell_type": "code",
   "execution_count": 31,
   "id": "02d531f3",
   "metadata": {},
   "outputs": [
    {
     "name": "stdout",
     "output_type": "stream",
     "text": [
      "Enter the products:eno\n"
     ]
    }
   ],
   "source": [
    "# Create a Chrome web driver instance and set up its service\n",
    "driver = webdriver.Chrome(service=ChromeService(ChromeDriverManager().install()))\n",
    "driver = webdriver.Chrome()\n",
    "\n",
    "entertheproduct = input(\"Enter the products:\")\n",
    "\n",
    "# Define the URL you want to access\n",
    "url = \"https://www.bigbasket.com/\"\n",
    "\n",
    "# Open the specified URL in the web browser\n",
    "driver.get(url)\n",
    "\n",
    "# Maximize the web browser window\n",
    "driver.maximize_window()\n",
    "\n",
    "\n",
    "search = driver.find_element(By.CSS_SELECTOR,\"#siteLayout > header.sm\\:hidden.z-30.flex.flex-col.col-span-12 > div.grid.grid-flow-col.gap-x-6.h-9.mt-3\\.5.mb-2\\.5 > div.grid.place-content-start.grid-flow-col.gap-x-6 > div > div > div > div > input\")\n",
    "search.send_keys(entertheproduct)\n",
    "search.send_keys(Keys.ENTER)\n",
    "\n",
    "time.sleep(10)\n"
   ]
  },
  {
   "cell_type": "code",
   "execution_count": 32,
   "id": "727c0357",
   "metadata": {},
   "outputs": [],
   "source": [
    "# Adjust the frequency and duration as needed\n",
    "frequency = 500  # in Hertz\n",
    "duration = 1000  # in milliseconds\n",
    "total_duration = 5  # 5 seconds\n",
    "\n",
    "#----------------------------------------------------------------------------------------------------------\n",
    "\n",
    "# Initialize empty lists to store data\n",
    "overall_name = []         # List to store product names\n",
    "overall_old_price = []    # List to store old prices\n",
    "overall_off_price = []    # List to store offer prices\n",
    "overall_quantity = []     # List to store product quantities\n",
    "overall_category = []     # List to store product categories\n",
    "overall_offer = []        # List to store offer details\n",
    "\n",
    "#----------------------------------------------------------------------------------------------------------\n",
    "# Define the title you're looking for\n",
    "target_title = \"- Thats all folks -\"\n",
    "\n",
    "# Set the scroll increment in pixels (adjust as needed)\n",
    "scroll_increment = 500  # You can change this value\n",
    "\n",
    "# Set the maximum number of scrolls before stopping (adjust as needed)\n",
    "max_scrolls = 200  # You can change this value\n",
    "\n",
    "scroll_count = 0\n",
    "\n",
    "# Loop to scroll down and search for the title\n",
    "while scroll_count < max_scrolls:\n",
    "    time.sleep(2)\n",
    "    # Check if the title is present on the webpage\n",
    "    if target_title in driver.page_source:\n",
    "        break  # If found, exit the loop\n",
    "\n",
    "    # Scroll down by a fixed number of pixels\n",
    "    driver.execute_script(f\"window.scrollBy(0, {scroll_increment});\")\n",
    "    scroll_count += 1\n",
    "\n",
    "\n",
    "soup = BeautifulSoup(driver.page_source, 'html.parser')\n",
    "\n",
    "name = soup.find_all('h3',class_='block m-0 line-clamp-2 font-regular text-base leading-sm text-darkOnyx-800 pt-0.5 h-full')\n",
    "overall_name = [x.text for x in name]\n",
    "\n",
    "#----------------------------------------------------------------------------------------------------------\n",
    "\n",
    "old_price = soup.find_all('div', class_='Pricing___StyledDiv-sc-pldi2d-0 bUnUzR')\n",
    "\n",
    "old_price = [x.text for x in old_price]\n",
    "\n",
    "overall_old_price = [x[x.find('₹', x.find('₹') + 1) + 1:] if '₹' in x and x.find('₹', x.find('₹') + 1) != -1 else '0' if x == '' else x[x.find('₹') + 1:] for x in old_price]\n",
    "\n",
    "#----------------------------------------------------------------------------------------------------------  \n",
    "\n",
    "off_price = soup.find_all('div', class_='Pricing___StyledDiv-sc-pldi2d-0 bUnUzR')\n",
    "\n",
    "off_price = [x.text for x in off_price]\n",
    "\n",
    "overall_off_price = [re.search(r'₹(\\d+(\\.\\d+)?)', text).group(1) if re.search(r'₹(\\d+(\\.\\d+)?)', text) else \"0\" for text in off_price]\n",
    "\n",
    "#----------------------------------------------------------------------------------------------------------        \n",
    "\n",
    "quantity = soup.find_all('span', class_=[\"Label-sc-15v1nk5-0 gJxZPQ truncate\", \"Label-sc-15v1nk5-0 PackChanger___StyledLabel-sc-newjpv-1 gJxZPQ cWbtUx\"])\n",
    "\n",
    "overall_quantity = [x.text for x in quantity]\n",
    "\n",
    "#----------------------------------------------------------------------------------------------------------\n",
    "\n",
    "category = soup.find_all('span',class_='Label-sc-15v1nk5-0 BrandName___StyledLabel2-sc-hssfrl-1 gJxZPQ keQNWn')\n",
    "\n",
    "overall_category = [x.text for x in category]\n",
    "\n",
    "#----------------------------------------------------------------------------------------------------------\n",
    "\n",
    "# Convert the extracted prices to numeric\n",
    "old_price_numeric = pd.to_numeric(overall_old_price, errors='coerce')\n",
    "off_price_numeric = pd.to_numeric(overall_off_price, errors='coerce')\n",
    "\n",
    "# Calculate the percentage of the offer, and fill NaN with 0\n",
    "overall_offer = ((old_price_numeric - off_price_numeric) / old_price_numeric * 100).round()\n",
    "\n",
    "#----------------------------------------------------------------------------------------------------------\n",
    "# Set the start time for the timer\n",
    "start_time = time.time()\n",
    "\n",
    "# Loop for the specified total duration\n",
    "while time.time() - start_time < total_duration:\n",
    "    # Generate a beep sound with the specified frequency and duration\n",
    "    winsound.Beep(frequency, duration)"
   ]
  },
  {
   "cell_type": "code",
   "execution_count": 34,
   "id": "9623091a",
   "metadata": {},
   "outputs": [
    {
     "name": "stdout",
     "output_type": "stream",
     "text": [
      "Length of overall_name: 61\n",
      "Length of overall_old_price: 61\n",
      "Length of overall_off_price: 61\n",
      "Length of overall_quantity: 61\n",
      "Length of overall_category: 61\n",
      "Length of overall_offer: 61\n"
     ]
    }
   ],
   "source": [
    "print(\"Length of overall_name:\", len(overall_name))\n",
    "print(\"Length of overall_old_price:\", len(overall_old_price))\n",
    "print(\"Length of overall_off_price:\", len(overall_off_price))\n",
    "print(\"Length of overall_quantity:\", len(overall_quantity))\n",
    "print(\"Length of overall_category:\", len(overall_category))\n",
    "print(\"Length of overall_offer:\", len(overall_offer))"
   ]
  },
  {
   "cell_type": "code",
   "execution_count": 35,
   "id": "d79a7d43",
   "metadata": {},
   "outputs": [
    {
     "name": "stdout",
     "output_type": "stream",
     "text": [
      "                                        Product Names        Category  \\\n",
      "0   Gentle & Effective Chewable Antacid Tablet - Z...            Eno    \n",
      "1                           Fruit Salt - Lemon Flavor            Eno    \n",
      "2   Gentle & Effective Chewable Antacid Tablet - T...            Eno    \n",
      "3                                Fruit Salt - Regular            Eno    \n",
      "4                         Eno Lemon Digestive Antacid            Eno    \n",
      "..                                                ...             ...   \n",
      "56  Pancharishta Ayurvedic Tonic - For Digestion, ...           ZANDU   \n",
      "57  Ultra Power Balm - For Quick Pain Relief, Head...           ZANDU   \n",
      "58  Balm - Ayurvedic Solution For Quick Pain Relie...           ZANDU   \n",
      "59  NAOQ19 Anti-Viral & Anti-Inflammatory Tablets ...  Sri Sri Tattva   \n",
      "60                              Itch Guard Plus Cream      Itch Guard   \n",
      "\n",
      "   Offer Price Old Price             Quantity  Percentage_offer  \n",
      "0           49        70              10 pcs               30.0  \n",
      "1            9         9                 5 g                0.0  \n",
      "2         66.5        70              10 pcs                5.0  \n",
      "3          288       320  2x100 g - Multipack              10.0  \n",
      "4          288       320   2x100g - Multipack              10.0  \n",
      "..         ...       ...                  ...               ...  \n",
      "56         210       210              650 ml                0.0  \n",
      "57          50        50        8 ml - Bottle               0.0  \n",
      "58         115       115               25 ml                0.0  \n",
      "59         250       250              60 pcs                0.0  \n",
      "60       117.6     117.6                20 g                0.0  \n",
      "\n",
      "[61 rows x 6 columns]\n"
     ]
    }
   ],
   "source": [
    "# Create a DataFrame with the collected data\n",
    "df = pd.DataFrame({\n",
    "    'Product Names': overall_name,\n",
    "    'Category': overall_category,\n",
    "    'Offer Price': overall_off_price,\n",
    "    'Old Price': overall_old_price,\n",
    "    'Quantity': overall_quantity,              \n",
    "    'Percentage_offer': overall_offer\n",
    "})\n",
    "\n",
    "# Print the DataFrame to see the data in the console\n",
    "print(df)\n",
    "\n",
    "# Save the DataFrame to a CSV file named \"bigbasket1.csv\"\n",
    "df.to_csv(\"bigbasket.csv\")"
   ]
  },
  {
   "cell_type": "markdown",
   "id": "4b9566ad",
   "metadata": {},
   "source": [
    "# Read CSV File"
   ]
  },
  {
   "cell_type": "code",
   "execution_count": 104,
   "id": "f335086c",
   "metadata": {},
   "outputs": [
    {
     "data": {
      "text/html": [
       "<div>\n",
       "<style scoped>\n",
       "    .dataframe tbody tr th:only-of-type {\n",
       "        vertical-align: middle;\n",
       "    }\n",
       "\n",
       "    .dataframe tbody tr th {\n",
       "        vertical-align: top;\n",
       "    }\n",
       "\n",
       "    .dataframe thead th {\n",
       "        text-align: right;\n",
       "    }\n",
       "</style>\n",
       "<table border=\"1\" class=\"dataframe\">\n",
       "  <thead>\n",
       "    <tr style=\"text-align: right;\">\n",
       "      <th></th>\n",
       "      <th>Unnamed: 0</th>\n",
       "      <th>Product Names</th>\n",
       "      <th>Category</th>\n",
       "      <th>Offer Price</th>\n",
       "      <th>Old Price</th>\n",
       "      <th>Quantity</th>\n",
       "      <th>Percentage_offer</th>\n",
       "    </tr>\n",
       "  </thead>\n",
       "  <tbody>\n",
       "    <tr>\n",
       "      <th>0</th>\n",
       "      <td>0</td>\n",
       "      <td>Banana - Robusta</td>\n",
       "      <td>Fresho</td>\n",
       "      <td>35.00</td>\n",
       "      <td>73.0</td>\n",
       "      <td>1 kg</td>\n",
       "      <td>52.0</td>\n",
       "    </tr>\n",
       "    <tr>\n",
       "      <th>1</th>\n",
       "      <td>1</td>\n",
       "      <td>Papaya</td>\n",
       "      <td>Fresho</td>\n",
       "      <td>68.62</td>\n",
       "      <td>94.0</td>\n",
       "      <td>1 kg</td>\n",
       "      <td>27.0</td>\n",
       "    </tr>\n",
       "    <tr>\n",
       "      <th>2</th>\n",
       "      <td>2</td>\n",
       "      <td>Pomegranate - Regular (Loose)</td>\n",
       "      <td>Fresho</td>\n",
       "      <td>272.29</td>\n",
       "      <td>373.0</td>\n",
       "      <td>1 kg - (5-6 pcs per kg)</td>\n",
       "      <td>27.0</td>\n",
       "    </tr>\n",
       "    <tr>\n",
       "      <th>3</th>\n",
       "      <td>3</td>\n",
       "      <td>Apple - Shimla, Regular</td>\n",
       "      <td>Fresho</td>\n",
       "      <td>180.00</td>\n",
       "      <td>328.0</td>\n",
       "      <td>2x4 pcs - Multipack</td>\n",
       "      <td>45.0</td>\n",
       "    </tr>\n",
       "    <tr>\n",
       "      <th>4</th>\n",
       "      <td>4</td>\n",
       "      <td>Banana - Yelakki</td>\n",
       "      <td>Fresho</td>\n",
       "      <td>104.00</td>\n",
       "      <td>156.0</td>\n",
       "      <td>1 kg</td>\n",
       "      <td>33.0</td>\n",
       "    </tr>\n",
       "    <tr>\n",
       "      <th>...</th>\n",
       "      <td>...</td>\n",
       "      <td>...</td>\n",
       "      <td>...</td>\n",
       "      <td>...</td>\n",
       "      <td>...</td>\n",
       "      <td>...</td>\n",
       "      <td>...</td>\n",
       "    </tr>\n",
       "    <tr>\n",
       "      <th>434</th>\n",
       "      <td>434</td>\n",
       "      <td>Bars Fruit &amp; Nut 10g Daily Protein Bar - Healt...</td>\n",
       "      <td>RiteBite Max Protein</td>\n",
       "      <td>450.00</td>\n",
       "      <td>450.0</td>\n",
       "      <td>50 g - (Pack of 6)</td>\n",
       "      <td>0.0</td>\n",
       "    </tr>\n",
       "    <tr>\n",
       "      <th>435</th>\n",
       "      <td>435</td>\n",
       "      <td>Gulkand With Dry Fruits - Delicious, Nutritiou...</td>\n",
       "      <td>Food Circle</td>\n",
       "      <td>450.00</td>\n",
       "      <td>450.0</td>\n",
       "      <td>300 g - Bottle</td>\n",
       "      <td>0.0</td>\n",
       "    </tr>\n",
       "    <tr>\n",
       "      <th>436</th>\n",
       "      <td>436</td>\n",
       "      <td>Premium Walnut Healthy Dry Fruit Bar - Rich In...</td>\n",
       "      <td>Happilo</td>\n",
       "      <td>294.00</td>\n",
       "      <td>420.0</td>\n",
       "      <td>6x35 g - Multipack</td>\n",
       "      <td>30.0</td>\n",
       "    </tr>\n",
       "    <tr>\n",
       "      <th>437</th>\n",
       "      <td>437</td>\n",
       "      <td>Fruit/Vegetable Basket - Plastic, Round, Multi...</td>\n",
       "      <td>Laplast</td>\n",
       "      <td>59.00</td>\n",
       "      <td>161.0</td>\n",
       "      <td>3 pcs</td>\n",
       "      <td>63.0</td>\n",
       "    </tr>\n",
       "    <tr>\n",
       "      <th>438</th>\n",
       "      <td>438</td>\n",
       "      <td>Blueberry Fruit Seeds</td>\n",
       "      <td>National Gardens</td>\n",
       "      <td>149.00</td>\n",
       "      <td>199.0</td>\n",
       "      <td>10 Seeds</td>\n",
       "      <td>25.0</td>\n",
       "    </tr>\n",
       "  </tbody>\n",
       "</table>\n",
       "<p>439 rows × 7 columns</p>\n",
       "</div>"
      ],
      "text/plain": [
       "     Unnamed: 0                                      Product Names  \\\n",
       "0             0                                   Banana - Robusta   \n",
       "1             1                                             Papaya   \n",
       "2             2                      Pomegranate - Regular (Loose)   \n",
       "3             3                            Apple - Shimla, Regular   \n",
       "4             4                                   Banana - Yelakki   \n",
       "..          ...                                                ...   \n",
       "434         434  Bars Fruit & Nut 10g Daily Protein Bar - Healt...   \n",
       "435         435  Gulkand With Dry Fruits - Delicious, Nutritiou...   \n",
       "436         436  Premium Walnut Healthy Dry Fruit Bar - Rich In...   \n",
       "437         437  Fruit/Vegetable Basket - Plastic, Round, Multi...   \n",
       "438         438                              Blueberry Fruit Seeds   \n",
       "\n",
       "                 Category  Offer Price  Old Price                 Quantity  \\\n",
       "0                  Fresho        35.00       73.0                    1 kg    \n",
       "1                  Fresho        68.62       94.0                    1 kg    \n",
       "2                  Fresho       272.29      373.0  1 kg - (5-6 pcs per kg)   \n",
       "3                  Fresho       180.00      328.0      2x4 pcs - Multipack   \n",
       "4                  Fresho       104.00      156.0                    1 kg    \n",
       "..                    ...          ...        ...                      ...   \n",
       "434  RiteBite Max Protein       450.00      450.0       50 g - (Pack of 6)   \n",
       "435          Food Circle        450.00      450.0           300 g - Bottle   \n",
       "436               Happilo       294.00      420.0       6x35 g - Multipack   \n",
       "437               Laplast        59.00      161.0                   3 pcs    \n",
       "438      National Gardens       149.00      199.0                10 Seeds    \n",
       "\n",
       "     Percentage_offer  \n",
       "0                52.0  \n",
       "1                27.0  \n",
       "2                27.0  \n",
       "3                45.0  \n",
       "4                33.0  \n",
       "..                ...  \n",
       "434               0.0  \n",
       "435               0.0  \n",
       "436              30.0  \n",
       "437              63.0  \n",
       "438              25.0  \n",
       "\n",
       "[439 rows x 7 columns]"
      ]
     },
     "execution_count": 104,
     "metadata": {},
     "output_type": "execute_result"
    }
   ],
   "source": [
    "df = pd.read_csv(r\"C:\\Users\\Sadiq\\Downloads\\Mycode\\Capstone\\Webscraping\\bigbasket.csv\")\n",
    "df"
   ]
  },
  {
   "cell_type": "markdown",
   "id": "1a7efc52",
   "metadata": {},
   "source": [
    "# EDA"
   ]
  },
  {
   "cell_type": "code",
   "execution_count": 74,
   "id": "cb78303d",
   "metadata": {},
   "outputs": [
    {
     "name": "stdout",
     "output_type": "stream",
     "text": [
      "DataFrame shape: (439, 7)\n"
     ]
    }
   ],
   "source": [
    "# Display the dimensions of the DataFrame (number of rows, number of columns)\n",
    "print(\"DataFrame shape:\", df.shape)"
   ]
  },
  {
   "cell_type": "code",
   "execution_count": 75,
   "id": "3552908f",
   "metadata": {},
   "outputs": [
    {
     "name": "stdout",
     "output_type": "stream",
     "text": [
      "First 10 rows:\n",
      "    Unnamed: 0                  Product Names Category  Offer Price  Old Price  \\\n",
      "0           0               Banana - Robusta   Fresho        35.00      73.00   \n",
      "1           1                         Papaya   Fresho        68.62      94.00   \n",
      "2           2  Pomegranate - Regular (Loose)   Fresho       272.29     373.00   \n",
      "3           3        Apple - Shimla, Regular   Fresho       180.00     328.00   \n",
      "4           4               Banana - Yelakki   Fresho       104.00     156.00   \n",
      "5           5           Guava - Thai (Loose)   Fresho        56.21      77.00   \n",
      "6           6      Muskmelon -  Netted Small   Fresho        37.23      51.00   \n",
      "7           7               Coconut - Medium   Fresho        28.00      40.00   \n",
      "8           8                 Papaya - Small   Fresho        57.67      79.00   \n",
      "9           9            Pomegranate (Loose)   Fresho       255.00     349.32   \n",
      "\n",
      "                          Quantity  Percentage_offer  \n",
      "0                            1 kg               52.0  \n",
      "1                            1 kg               27.0  \n",
      "2          1 kg - (5-6 pcs per kg)              27.0  \n",
      "3              2x4 pcs - Multipack              45.0  \n",
      "4                            1 kg               33.0  \n",
      "5                            1 pc               27.0  \n",
      "6                 1 pc - 500g-900g              27.0  \n",
      "7     1 pc - (approx. 450g to 500)              30.0  \n",
      "8             1 pc - 500 g - 800 g              27.0  \n",
      "9  4 pcs - (Approx. 800 g - 880 g)              27.0  \n"
     ]
    }
   ],
   "source": [
    "# Display the first 10 rows of the DataFrame\n",
    "print(\"First 10 rows:\\n\", df.head(10))"
   ]
  },
  {
   "cell_type": "code",
   "execution_count": 78,
   "id": "0ffc5423",
   "metadata": {},
   "outputs": [
    {
     "data": {
      "text/plain": [
       "False"
      ]
     },
     "execution_count": 78,
     "metadata": {},
     "output_type": "execute_result"
    }
   ],
   "source": [
    "# If there are any null values in data set\n",
    "df.isnull().values.any()"
   ]
  },
  {
   "cell_type": "code",
   "execution_count": 79,
   "id": "2e1fe25c",
   "metadata": {},
   "outputs": [
    {
     "name": "stdout",
     "output_type": "stream",
     "text": [
      "<class 'pandas.core.frame.DataFrame'>\n",
      "RangeIndex: 439 entries, 0 to 438\n",
      "Data columns (total 7 columns):\n",
      " #   Column            Non-Null Count  Dtype  \n",
      "---  ------            --------------  -----  \n",
      " 0   Unnamed: 0        439 non-null    int64  \n",
      " 1   Product Names     439 non-null    object \n",
      " 2   Category          439 non-null    object \n",
      " 3   Offer Price       439 non-null    float64\n",
      " 4   Old Price         439 non-null    float64\n",
      " 5   Quantity          439 non-null    object \n",
      " 6   Percentage_offer  439 non-null    float64\n",
      "dtypes: float64(3), int64(1), object(3)\n",
      "memory usage: 24.1+ KB\n",
      "\n",
      "DataFrame info: None\n"
     ]
    }
   ],
   "source": [
    "# Display summary information about the DataFrame\n",
    "print(\"\\nDataFrame info:\",df.info())"
   ]
  },
  {
   "cell_type": "code",
   "execution_count": 80,
   "id": "9e3854c0",
   "metadata": {},
   "outputs": [
    {
     "data": {
      "image/png": "[encoded data removed]",
      "text/plain": [
       "<Figure size 1000x600 with 1 Axes>"
      ]
     },
     "metadata": {},
     "output_type": "display_data"
    }
   ],
   "source": [
    "import matplotlib.pyplot as plt\n",
    "\n",
    "# Assuming 'df' is your DataFrame\n",
    "# You can create a count of products in each category\n",
    "category_counts = df['Category'].value_counts()\n",
    "\n",
    "# Select the top 5 categories by product count\n",
    "top_5_categories = category_counts.head(10)\n",
    "\n",
    "# Create a larger figure\n",
    "plt.figure(figsize=(10, 6))  # Adjust the width and height as needed\n",
    "\n",
    "# Create a bar plot for the top 5 categories\n",
    "plt.bar(top_5_categories.index, top_5_categories)\n",
    "\n",
    "# Annotate the bars with their counts\n",
    "for i, count in enumerate(top_5_categories):\n",
    "    plt.text(i, count, str(count), ha='center', va='bottom')\n",
    "\n",
    "# Customize the plot\n",
    "plt.xlabel('Category')\n",
    "plt.ylabel('Count')\n",
    "plt.title('Top 5 Categories by Product Count')\n",
    "plt.xticks(rotation=90)  # Rotate category labels if needed\n",
    "\n",
    "# Show the plot\n",
    "plt.show()\n"
   ]
  },
  {
   "cell_type": "code",
   "execution_count": 95,
   "id": "0bbac487",
   "metadata": {},
   "outputs": [
    {
     "name": "stdout",
     "output_type": "stream",
     "text": [
      "Products with discounts exceeding 50%:\n",
      "                                         Product Names              Category  \\\n",
      "0                                     Banana - Robusta                Fresho   \n",
      "139                                       Seeds - Flax              BB Royal   \n",
      "176                   Fruit Juice - Masala Mixed Fruit                  Real   \n",
      "178                   Fruit Juice - Masala Pomegranate                  Real   \n",
      "186  Mini Chopper With 3 Blades - For Cutting Veget...              Wellberg   \n",
      "198  Stainless Steel Rice Strainer/Colander With Ha...                 HAZEL   \n",
      "212  Fruit & Vegetable Refrigerator Net Bag Set - M...                  IRIS   \n",
      "225                         Fruit Juice - Masala Guava                  Real   \n",
      "230  Fruit & Nut Cookies - Zero Cholesterol & No Tr...                UNIBIC   \n",
      "231  Utility Fruit Loop Basket Set - Assorted Colou...                  JOYO   \n",
      "257                                         Amla Candy      Fresho Signature   \n",
      "266  Mini Fruit & Vegetable Chopper With 3 Blades -...  Pigeon by Stovekraft   \n",
      "278  Dry Fruit Combo - Walnuts, Cashews, Almonds, R...                  Zoff   \n",
      "293  12-In-1 Multipurpose Vegetable & Fruit Chopper...             Home Puff   \n",
      "302                       Moisturizing Fruit Face Wash     Everyuth Naturals   \n",
      "352  Chopping/Cutting Board - For Fruits & Vegetabl...                Anjali   \n",
      "362  Better Home Square Plastic Multipurpose Fruits...                  JOYO   \n",
      "366  Multistar Fruit /Kitchen Storage Basket - Mult...                 Asian   \n",
      "382           Vegetable-Fruit String Chopper - Classic            Wonderchef   \n",
      "392  Steel Kitchen Fruits & Vegetable Storage Rack/...                 HAZEL   \n",
      "399  Bamboo Wood Square Basket - For Bread,Fruit or...              Bamboooz   \n",
      "419  Multipurpose Colander - Stainless, Ideal For F...                Petals   \n",
      "420  Multistar Fruit /Kitchen Storage Basket - Mult...                 Asian   \n",
      "422  Stainless Steel Multipurpose Fruit Basket - Wi...             Elephant    \n",
      "426  Hand Press Fruits & Vegetable Push Chopper - 3...             Home Puff   \n",
      "432                         Dried Fruit - Blackcurrant              BB Royal   \n",
      "437  Fruit/Vegetable Basket - Plastic, Round, Multi...               Laplast   \n",
      "\n",
      "     Offer Price  Old Price                 Quantity  Percentage_offer  \n",
      "0          35.00       73.0                    1 kg               52.0  \n",
      "139        30.00       60.0                   200 g               50.0  \n",
      "176       137.20      280.0      2 x 1 L - Multipack              51.0  \n",
      "178       137.20      280.0      2 x 1 L - Multipack              51.0  \n",
      "186       179.00      595.0                    1 pc               70.0  \n",
      "198       229.00      979.0                    1 pc               77.0  \n",
      "212        29.00       60.0                   3 pcs               52.0  \n",
      "225       137.20      280.0      2 x 1 L - Multipack              51.0  \n",
      "230       150.00      300.0  2 x 300 g - (Multipack)              50.0  \n",
      "231       139.00      300.0                   3 pcs               54.0  \n",
      "257        59.00      119.0                   150 g               50.0  \n",
      "266       199.00      545.0                  400 ml               63.0  \n",
      "278      1191.58     3855.0                1.250 kg               69.0  \n",
      "293       589.00     1999.0                   756 g               71.0  \n",
      "302        82.50      165.0             150 g - Tube              50.0  \n",
      "352       139.00      320.0                    1 pc               57.0  \n",
      "362       129.00      300.0                   3 pcs               57.0  \n",
      "366       489.00     1072.0                   4 pcs               54.0  \n",
      "382       259.00      700.0                    1 pc               63.0  \n",
      "392      1179.00     3299.0                    1 pc               64.0  \n",
      "399        99.00      299.0                    1 pc               67.0  \n",
      "419       199.00      419.0                    1 pc               53.0  \n",
      "420       489.00     1072.0                   4 pcs               54.0  \n",
      "422       609.00     1299.0                    1 pc               53.0  \n",
      "426       349.00     1099.0                  550 ml               68.0  \n",
      "432       189.00      400.0                   250 g               53.0  \n",
      "437        59.00      161.0                   3 pcs               63.0  \n"
     ]
    }
   ],
   "source": [
    "import pandas as pd\n",
    "\n",
    "# Load the data from \"bigbasket.csv\"\n",
    "df = pd.read_csv(\"bigbasket.csv\")\n",
    "\n",
    "# Filter the data to include only rows where the percentage offer is greater than 50%\n",
    "discounted_products = df[df['Percentage_offer'] >= 50]\n",
    "\n",
    "# Display or save the relevant information\n",
    "print(\"Products with discounts exceeding 50%:\")\n",
    "print(discounted_products[['Product Names', 'Category', 'Offer Price', 'Old Price', 'Quantity', 'Percentage_offer']])\n",
    "\n",
    "# You can also save this filtered data to a new CSV file if needed:\n",
    "discounted_products.to_csv(\"discounted_products.csv\", index=False)\n"
   ]
  },
  {
   "cell_type": "code",
   "execution_count": 33,
   "id": "2cb60caa",
   "metadata": {},
   "outputs": [
    {
     "name": "stdout",
     "output_type": "stream",
     "text": [
      "Length of overall_name: 61\n",
      "Length of overall_old_price: 61\n",
      "Length of overall_off_price: 61\n",
      "Length of overall_quantity: 61\n",
      "Length of overall_category: 61\n",
      "Length of overall_offer: 61\n"
     ]
    }
   ],
   "source": [
    "print(\"Length of overall_name:\", len(overall_name))\n",
    "print(\"Length of overall_old_price:\", len(overall_old_price))\n",
    "print(\"Length of overall_off_price:\", len(overall_off_price))\n",
    "print(\"Length of overall_quantity:\", len(overall_quantity))\n",
    "print(\"Length of overall_category:\", len(overall_category))\n",
    "print(\"Length of overall_offer:\", len(overall_offer))"
   ]
  },
  {
   "cell_type": "code",
   "execution_count": null,
   "id": "bcbef3d8",
   "metadata": {},
   "outputs": [],
   "source": [
    "finish"
   ]
  }
 ],
 "metadata": {
  "kernelspec": {
   "display_name": "Python 3 (ipykernel)",
   "language": "python",
   "name": "python3"
  },
  "language_info": {
   "codemirror_mode": {
    "name": "ipython",
    "version": 3
   },
   "file_extension": ".py",
   "mimetype": "text/x-python",
   "name": "python",
   "nbconvert_exporter": "python",
   "pygments_lexer": "ipython3",
   "version": "3.10.9"
  }
 },
 "nbformat": 4,
 "nbformat_minor": 5
}
